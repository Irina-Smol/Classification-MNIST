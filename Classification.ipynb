{
 "cells": [
  {
   "cell_type": "code",
   "execution_count": 1,
   "id": "bd10c10b",
   "metadata": {},
   "outputs": [],
   "source": [
    "# импортируем датасеты, модуль SVM, метрики и функцию train_test_split\n",
    "from sklearn import datasets, svm, metrics\n",
    "from sklearn.model_selection import train_test_split"
   ]
  },
  {
   "cell_type": "code",
   "execution_count": 2,
   "id": "4e481425",
   "metadata": {},
   "outputs": [],
   "source": [
    "# загружаем данные\n",
    "digits = datasets.load_digits()"
   ]
  },
  {
   "cell_type": "code",
   "execution_count": 3,
   "id": "6bf35174",
   "metadata": {},
   "outputs": [
    {
     "data": {
      "text/plain": [
       "sklearn.utils.Bunch"
      ]
     },
     "execution_count": 3,
     "metadata": {},
     "output_type": "execute_result"
    }
   ],
   "source": [
    "# тип объекта - Bunch\n",
    "type(digits)"
   ]
  },
  {
   "cell_type": "code",
   "execution_count": 4,
   "id": "17554fab",
   "metadata": {},
   "outputs": [
    {
     "data": {
      "text/plain": [
       "dict_keys(['data', 'target', 'frame', 'feature_names', 'target_names', 'images', 'DESCR'])"
      ]
     },
     "execution_count": 4,
     "metadata": {},
     "output_type": "execute_result"
    }
   ],
   "source": [
    "digits.keys()"
   ]
  },
  {
   "cell_type": "code",
   "execution_count": 5,
   "id": "0b91d7fe",
   "metadata": {},
   "outputs": [
    {
     "data": {
      "text/plain": [
       "1797"
      ]
     },
     "execution_count": 5,
     "metadata": {},
     "output_type": "execute_result"
    }
   ],
   "source": [
    "# посмотрим сколько изображений\n",
    "len(digits.images)"
   ]
  },
  {
   "cell_type": "code",
   "execution_count": 6,
   "id": "1bab8a01",
   "metadata": {},
   "outputs": [
    {
     "data": {
      "text/plain": [
       "array([[ 0.,  0.,  5., 13.,  9.,  1.,  0.,  0.],\n",
       "       [ 0.,  0., 13., 15., 10., 15.,  5.,  0.],\n",
       "       [ 0.,  3., 15.,  2.,  0., 11.,  8.,  0.],\n",
       "       [ 0.,  4., 12.,  0.,  0.,  8.,  8.,  0.],\n",
       "       [ 0.,  5.,  8.,  0.,  0.,  9.,  8.,  0.],\n",
       "       [ 0.,  4., 11.,  0.,  1., 12.,  7.,  0.],\n",
       "       [ 0.,  2., 14.,  5., 10., 12.,  0.,  0.],\n",
       "       [ 0.,  0.,  6., 13., 10.,  0.,  0.,  0.]])"
      ]
     },
     "execution_count": 6,
     "metadata": {},
     "output_type": "execute_result"
    }
   ],
   "source": [
    "# выведем матрицу первого изображения\n",
    "digits.images[0]"
   ]
  },
  {
   "cell_type": "code",
   "execution_count": 7,
   "id": "b2bcf3e4",
   "metadata": {},
   "outputs": [
    {
     "data": {
      "text/plain": [
       "(8, 8)"
      ]
     },
     "execution_count": 7,
     "metadata": {},
     "output_type": "execute_result"
    }
   ],
   "source": [
    "digits.images[0].shape"
   ]
  },
  {
   "cell_type": "code",
   "execution_count": 8,
   "id": "1c711a32",
   "metadata": {},
   "outputs": [
    {
     "data": {
      "text/plain": [
       "64"
      ]
     },
     "execution_count": 8,
     "metadata": {},
     "output_type": "execute_result"
    }
   ],
   "source": [
    "digits.images[0].size"
   ]
  },
  {
   "cell_type": "code",
   "execution_count": 13,
   "id": "8e8782bd",
   "metadata": {},
   "outputs": [
    {
     "data": {
      "image/png": "[encoded data removed]",
      "text/plain": [
       "<Figure size 1000x3000 with 4 Axes>"
      ]
     },
     "metadata": {},
     "output_type": "display_data"
    }
   ],
   "source": [
    "import matplotlib.pyplot as plt\n",
    "import numpy as np\n",
    "\n",
    "fig, axes = plt.subplots(1, 4, figsize = (10,30))\n",
    "\n",
    "# в цикле for создадим кортеж из трех объектов: id изображения (всего их будет 4), самого изображения и\n",
    "# того, что на нем представлено (целевой переменной)\n",
    "for ax, image, label in zip(axes, digits.images, digits.target):\n",
    "    # на каждой итерации заполним соответствующее пространство картинкой\n",
    "    ax.imshow(image, cmap = 'gray')\n",
    "    # и укажем какой цифре соответствует изображение с помощью f форматирования\n",
    "    ax.set_title(f'Target: {label}')"
   ]
  },
  {
   "cell_type": "markdown",
   "id": "9a57928b",
   "metadata": {},
   "source": [
    "### Подготовка данных"
   ]
  },
  {
   "cell_type": "code",
   "execution_count": 14,
   "id": "a85cc850",
   "metadata": {},
   "outputs": [
    {
     "data": {
      "text/plain": [
       "array([ 0.,  0.,  5., 13.,  9.,  1.,  0.,  0.,  0.,  0., 13., 15., 10.,\n",
       "       15.,  5.,  0.,  0.,  3., 15.,  2.,  0., 11.,  8.,  0.,  0.,  4.,\n",
       "       12.,  0.,  0.,  8.,  8.,  0.,  0.,  5.,  8.,  0.,  0.,  9.,  8.,\n",
       "        0.,  0.,  4., 11.,  0.,  1., 12.,  7.,  0.,  0.,  2., 14.,  5.,\n",
       "       10., 12.,  0.,  0.,  0.,  0.,  6., 13., 10.,  0.,  0.,  0.])"
      ]
     },
     "execution_count": 14,
     "metadata": {},
     "output_type": "execute_result"
    }
   ],
   "source": [
    "# превратим двумерную матрицу в одномерный массив (flatten the images)\n",
    " \n",
    "# для этого создадим переменную с количеством изображений\n",
    "n_samples = len(digits.images)\n",
    " \n",
    "# и превратим каждое изображение в одномерный массив, где \n",
    "# строками будут изображения, а столбцами - их признаки (пиксели)\n",
    "digits_t = digits.images.reshape((n_samples, -1))\n",
    "\n",
    "# снова выведем первое изображение\n",
    "digits_t[0]"
   ]
  },
  {
   "cell_type": "code",
   "execution_count": 15,
   "id": "2b116fde",
   "metadata": {},
   "outputs": [
    {
     "data": {
      "text/plain": [
       "(64,)"
      ]
     },
     "execution_count": 15,
     "metadata": {},
     "output_type": "execute_result"
    }
   ],
   "source": [
    "digits_t[0].shape"
   ]
  },
  {
   "cell_type": "code",
   "execution_count": 16,
   "id": "0219b64e",
   "metadata": {},
   "outputs": [
    {
     "data": {
      "text/plain": [
       "(1797, 64)"
      ]
     },
     "execution_count": 16,
     "metadata": {},
     "output_type": "execute_result"
    }
   ],
   "source": [
    "digits_t.shape"
   ]
  },
  {
   "cell_type": "markdown",
   "id": "45a25e0b",
   "metadata": {},
   "source": [
    "### Обучение модели"
   ]
  },
  {
   "cell_type": "code",
   "execution_count": 17,
   "id": "aca32357",
   "metadata": {},
   "outputs": [],
   "source": [
    "# подготовим данные в формате X и y для наглядности\n",
    "X = digits_t\n",
    "y = digits.target\n",
    "\n",
    "# создадим объект классификатора (Support Vector Classifier) из модуля SVM\n",
    "svc_model = svm.SVC()\n",
    " \n",
    "# разделим выборки на обучающую и тестовую, размер тестовой выборки 30%\n",
    "X_train, X_test, y_train, y_test = train_test_split(X, y, \n",
    "                                                    test_size = 0.3, \n",
    "                                                    random_state = 42)\n",
    " \n",
    "# обучим классификатор с помощью метода fit()\n",
    "svc_model.fit(X_train, y_train)\n",
    " \n",
    "# сделаем прогноз того, что представлено на картинке\n",
    "y_pred = svc_model.predict(X_test)"
   ]
  },
  {
   "cell_type": "code",
   "execution_count": 18,
   "id": "4c08411c",
   "metadata": {},
   "outputs": [
    {
     "data": {
      "text/plain": [
       "array([ 79,  93, 126, 229, 325, 345, 402, 409, 428, 443, 455, 478, 485,\n",
       "       582, 608])"
      ]
     },
     "execution_count": 18,
     "metadata": {},
     "output_type": "execute_result"
    }
   ],
   "source": [
    "# с помощью атрибута support_ мы можем посмотреть на индексы точек (изображений),\n",
    "# которые использовались в качестве опорных векторов при обучении\n",
    "svc_model.support_[:15]"
   ]
  },
  {
   "cell_type": "code",
   "execution_count": 19,
   "id": "d0a183a2",
   "metadata": {},
   "outputs": [
    {
     "data": {
      "text/plain": [
       "(613, 64)"
      ]
     },
     "execution_count": 19,
     "metadata": {},
     "output_type": "execute_result"
    }
   ],
   "source": [
    "# если применить индексы support_ к нашему датасету, то мы выберем только те изображения,\n",
    "# которые использовал классификатор (их было 613)\n",
    "X[svc_model.support_].shape"
   ]
  },
  {
   "cell_type": "code",
   "execution_count": 20,
   "id": "3fb7a038",
   "metadata": {},
   "outputs": [
    {
     "data": {
      "text/plain": [
       "(1257, 64)"
      ]
     },
     "execution_count": 20,
     "metadata": {},
     "output_type": "execute_result"
    }
   ],
   "source": [
    "# это примерно половина обучающей выборки\n",
    "X_train.shape"
   ]
  },
  {
   "cell_type": "markdown",
   "id": "3f002e6e",
   "metadata": {},
   "source": [
    "### Оценка качества модели"
   ]
  },
  {
   "cell_type": "code",
   "execution_count": 21,
   "id": "3ecbc5a1",
   "metadata": {},
   "outputs": [
    {
     "name": "stdout",
     "output_type": "stream",
     "text": [
      "Accuracy: 0.99\n"
     ]
    }
   ],
   "source": [
    "print(\"Accuracy:\", np.round(metrics.accuracy_score(y_test, y_pred), 2))"
   ]
  },
  {
   "cell_type": "code",
   "execution_count": 22,
   "id": "48393bd4",
   "metadata": {},
   "outputs": [
    {
     "data": {
      "text/plain": [
       "<sklearn.metrics._plot.confusion_matrix.ConfusionMatrixDisplay at 0x2068d8f9640>"
      ]
     },
     "execution_count": 22,
     "metadata": {},
     "output_type": "execute_result"
    },
    {
     "data": {
      "image/png": "[encoded data removed]",
      "text/plain": [
       "<Figure size 800x800 with 2 Axes>"
      ]
     },
     "metadata": {},
     "output_type": "display_data"
    }
   ],
   "source": [
    "# чтобы вывести матрицу ошибок, мы вначале создаем для нее пространство нужного нам размера\n",
    "fig, ax = plt.subplots(figsize = (8, 8))\n",
    "\n",
    "# а затем используем метод .from_estimator() класса ConfusionMatrixDisplay, которому передаем объект модели,\n",
    "# данные для проверки, цветовую схему и переменную пространства, куда мы и поместим матрицу\n",
    "metrics.ConfusionMatrixDisplay.from_estimator(svc_model, X_test, y_test, cmap = plt.cm.Blues, ax = ax)"
   ]
  },
  {
   "cell_type": "code",
   "execution_count": 23,
   "id": "0a73d61d",
   "metadata": {},
   "outputs": [
    {
     "data": {
      "image/png": "[encoded data removed]",
      "text/plain": [
       "<Figure size 1000x300 with 4 Axes>"
      ]
     },
     "metadata": {},
     "output_type": "display_data"
    }
   ],
   "source": [
    "# посмотрим на результат визуально \n",
    "fig, axes = plt.subplots(1, 4, figsize = (10, 3))\n",
    "for ax, image, prediction in zip(axes, X_test, y_pred):\n",
    "\n",
    "    # убрать рамку вокруг изображений\n",
    "    ax.set_axis_off()\n",
    "\n",
    "    # каждое изображение нужно восстановить до массива 2D \n",
    "    image = image.reshape(8, 8)\n",
    "\n",
    "    # в функции imshow изменим параметр cmap = plt.cm.gray_r \n",
    "    # это обратная серая цветовая схема\n",
    "    ax.imshow(image, cmap = plt.cm.gray_r)\n",
    "\n",
    "    # прогноз для каждого изображения\n",
    "    ax.set_title(f'Prediction: {prediction}')"
   ]
  },
  {
   "cell_type": "code",
   "execution_count": null,
   "id": "20d45617",
   "metadata": {},
   "outputs": [],
   "source": []
  }
 ],
 "metadata": {
  "kernelspec": {
   "display_name": "Python 3 (ipykernel)",
   "language": "python",
   "name": "python3"
  },
  "language_info": {
   "codemirror_mode": {
    "name": "ipython",
    "version": 3
   },
   "file_extension": ".py",
   "mimetype": "text/x-python",
   "name": "python",
   "nbconvert_exporter": "python",
   "pygments_lexer": "ipython3",
   "version": "3.9.13"
  }
 },
 "nbformat": 4,
 "nbformat_minor": 5
}
